{
 "cells": [
  {
   "cell_type": "code",
   "execution_count": 1,
   "metadata": {},
   "outputs": [
    {
     "name": "stdout",
     "output_type": "stream",
     "text": [
      "2020/9/3\n"
     ]
    }
   ],
   "source": [
    "a = 2020\n",
    "b = 9\n",
    "c = 3\n",
    "\n",
    "print(a,b,c, sep='/')"
   ]
  },
  {
   "cell_type": "code",
   "execution_count": 2,
   "metadata": {},
   "outputs": [
    {
     "name": "stdout",
     "output_type": "stream",
     "text": [
      "True\n",
      "False\n",
      "False\n",
      "True\n",
      "True\n",
      "False\n"
     ]
    }
   ],
   "source": [
    "print(bool(' '))  # space 가 있으니까 True\n",
    "print(bool(''))   # space가 없어서 False\n",
    "print(bool(0))    # 0은 false\n",
    "print(bool(1))\n",
    "print(bool(-1))   # 숫자에서 0을 제외한 다른 숫자는 True\n",
    "print(bool(None)) # 아무것도 없어서 False"
   ]
  },
  {
   "cell_type": "code",
   "execution_count": 3,
   "metadata": {},
   "outputs": [
    {
     "name": "stdout",
     "output_type": "stream",
     "text": [
      "13\n",
      "-7\n",
      "3.3333333333333335\n",
      "3\n",
      "30\n",
      "1000\n",
      "1\n"
     ]
    }
   ],
   "source": [
    "a = 3\n",
    "b = 10\n",
    "print(a+b)\n",
    "print(a-b)\n",
    "print(b/a)  # float\n",
    "print(b//a) # int\n",
    "print(b*a)\n",
    "print(b**a)\n",
    "print(b%a)  # get remainder"
   ]
  },
  {
   "cell_type": "code",
   "execution_count": 4,
   "metadata": {},
   "outputs": [
    {
     "name": "stdout",
     "output_type": "stream",
     "text": [
      "True\n",
      "True\n",
      "False\n",
      "False\n",
      "False\n",
      "True\n"
     ]
    }
   ],
   "source": [
    "# 비교연산\n",
    "\n",
    "a = 10\n",
    "b = 3\n",
    "\n",
    "print(a >= b)\n",
    "print(a > b)\n",
    "print(a < b)\n",
    "print(a <= b)\n",
    "print(a == b)\n",
    "print(a != b)"
   ]
  },
  {
   "cell_type": "code",
   "execution_count": 5,
   "metadata": {},
   "outputs": [
    {
     "name": "stdout",
     "output_type": "stream",
     "text": [
      "False\n",
      "True\n",
      "True\n"
     ]
    }
   ],
   "source": [
    "# 논리연산\n",
    "\n",
    "a = True       # 1\n",
    "b = False      # 0\n",
    "\n",
    "print(a and b) # *\n",
    "print(a or b)  # + \n",
    "print(not b)   # 반대"
   ]
  },
  {
   "cell_type": "code",
   "execution_count": 8,
   "metadata": {},
   "outputs": [
    {
     "name": "stdout",
     "output_type": "stream",
     "text": [
      "30\n"
     ]
    }
   ],
   "source": [
    "# 할당 연산\n",
    "\n",
    "a = 10\n",
    "a = a + 10\n",
    "a += 10\n",
    "print(a)\n"
   ]
  },
  {
   "cell_type": "code",
   "execution_count": 11,
   "metadata": {},
   "outputs": [
    {
     "name": "stdout",
     "output_type": "stream",
     "text": [
      "8\n",
      "101000\n",
      "001110\n"
     ]
    }
   ],
   "source": [
    "# bit연산\n",
    "\n",
    "a = 40\n",
    "b = 14\n",
    "print(a&b)\n",
    "# &, /, ~\n",
    "\n",
    "print(bin(a)[2:].zfill(6))\n",
    "print(bin(b)[2:].zfill(6))\n",
    "\n",
    "\n",
    "# 둘중에 하나라도 0이면 0, \n",
    "\n",
    "# 101000\n",
    "# 001110\n",
    "# -------- and 연산\n",
    "# 001000\n",
    "\n"
   ]
  },
  {
   "cell_type": "code",
   "execution_count": 12,
   "metadata": {},
   "outputs": [
    {
     "name": "stdout",
     "output_type": "stream",
     "text": [
      "8\n"
     ]
    }
   ],
   "source": [
    "# functions\n",
    "\n",
    "def f(x, y):\n",
    "    return x+y\n",
    "\n",
    "print(f(3,5))"
   ]
  },
  {
   "cell_type": "code",
   "execution_count": 14,
   "metadata": {},
   "outputs": [
    {
     "name": "stdout",
     "output_type": "stream",
     "text": [
      "4\n",
      "1\n",
      "2\n",
      "3\n"
     ]
    }
   ],
   "source": [
    "def ff():\n",
    "    print('1')\n",
    "    print('2')\n",
    "    print('3')\n",
    "print(4)\n",
    "ff()"
   ]
  },
  {
   "cell_type": "code",
   "execution_count": 15,
   "metadata": {},
   "outputs": [
    {
     "name": "stdout",
     "output_type": "stream",
     "text": [
      "314.0\n"
     ]
    }
   ],
   "source": [
    "def circle(r):\n",
    "    width = r * r * 3.14\n",
    "    return width\n",
    "print(circle(10))"
   ]
  },
  {
   "cell_type": "code",
   "execution_count": null,
   "metadata": {},
   "outputs": [],
   "source": []
  },
  {
   "cell_type": "code",
   "execution_count": null,
   "metadata": {},
   "outputs": [],
   "source": []
  }
 ],
 "metadata": {
  "kernelspec": {
   "display_name": "Python 3",
   "language": "python",
   "name": "python3"
  },
  "language_info": {
   "codemirror_mode": {
    "name": "ipython",
    "version": 3
   },
   "file_extension": ".py",
   "mimetype": "text/x-python",
   "name": "python",
   "nbconvert_exporter": "python",
   "pygments_lexer": "ipython3",
   "version": "3.7.7"
  }
 },
 "nbformat": 4,
 "nbformat_minor": 4
}
